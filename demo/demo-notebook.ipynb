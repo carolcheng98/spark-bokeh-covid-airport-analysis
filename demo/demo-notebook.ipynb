{
 "cells": [
  {
   "cell_type": "markdown",
   "metadata": {},
   "source": [
    "# Covid-19’s Impact on Airport Traffic"
   ]
  },
  {
   "source": [
    "## Import Packages"
   ],
   "cell_type": "markdown",
   "metadata": {}
  },
  {
   "cell_type": "code",
   "execution_count": 4,
   "metadata": {},
   "outputs": [],
   "source": [
    "import pandas as pd\n",
    "import numpy as np\n",
    "import datetime\n",
    "import os\n",
    "import json"
   ]
  },
  {
   "cell_type": "code",
   "execution_count": 6,
   "metadata": {},
   "outputs": [],
   "source": [
    "import fiona\n",
    "import geopandas as gpd\n",
    "import matplotlib.pyplot as plt\n",
    "import plotly\n",
    "import plotly.graph_objects as go\n",
    "import plotly.express as px\n",
    "import folium"
   ]
  },
  {
   "cell_type": "code",
   "execution_count": 7,
   "metadata": {},
   "outputs": [],
   "source": [
    "#%pip install bokeh\n",
    "from bokeh.io import output_notebook, show, output_file\n",
    "from bokeh.plotting import figure\n",
    "from bokeh.models import GeoJSONDataSource, LinearColorMapper, ColorBar, NumeralTickFormatter\n",
    "from bokeh.palettes import brewer\n",
    "\n",
    "from bokeh.io.doc import curdoc\n",
    "from bokeh.models import Slider, HoverTool, Select\n",
    "from bokeh.layouts import widgetbox, row, column"
   ]
  },
  {
   "source": [
    "## Read in Datasets (Partly Preprocessed with PySpark)"
   ],
   "cell_type": "markdown",
   "metadata": {}
  },
  {
   "cell_type": "code",
   "execution_count": 22,
   "metadata": {},
   "outputs": [
    {
     "output_type": "execute_result",
     "data": {
      "text/plain": [
       "     Month                          Airport                 City  \\\n",
       "0        3       Boston Logan International               Boston   \n",
       "2        3  Charlotte Douglas International            Charlotte   \n",
       "3        3      Chicago OHare International              Chicago   \n",
       "4        3  Dallas/Fort Worth International            Grapevine   \n",
       "5        3   Daniel K. Inouye International       Urban Honolulu   \n",
       "..     ...                              ...                  ...   \n",
       "213     10              Miami International        Miami Springs   \n",
       "216     10     Newark Liberty International               Newark   \n",
       "217     10      San Francisco International  South San Francisco   \n",
       "219     10     Seattle-Tacoma International               SeaTac   \n",
       "222     10  Washington Dulles International               Floris   \n",
       "\n",
       "              State                         Country  Percentage  \n",
       "0     Massachusetts  United States of America (the)     80.6875  \n",
       "2    North Carolina  United States of America (the)     73.0000  \n",
       "3          Illinois  United States of America (the)     77.8125  \n",
       "4             Texas  United States of America (the)     70.9375  \n",
       "5            Hawaii  United States of America (the)     95.0000  \n",
       "..              ...                             ...         ...  \n",
       "213         Florida  United States of America (the)     66.6250  \n",
       "216      New Jersey  United States of America (the)     98.9375  \n",
       "217      California  United States of America (the)     51.6250  \n",
       "219      Washington  United States of America (the)     68.0625  \n",
       "222        Virginia  United States of America (the)     64.1250  \n",
       "\n",
       "[136 rows x 6 columns]"
      ],
      "text/html": "<div>\n<style scoped>\n    .dataframe tbody tr th:only-of-type {\n        vertical-align: middle;\n    }\n\n    .dataframe tbody tr th {\n        vertical-align: top;\n    }\n\n    .dataframe thead th {\n        text-align: right;\n    }\n</style>\n<table border=\"1\" class=\"dataframe\">\n  <thead>\n    <tr style=\"text-align: right;\">\n      <th></th>\n      <th>Month</th>\n      <th>Airport</th>\n      <th>City</th>\n      <th>State</th>\n      <th>Country</th>\n      <th>Percentage</th>\n    </tr>\n  </thead>\n  <tbody>\n    <tr>\n      <th>0</th>\n      <td>3</td>\n      <td>Boston Logan International</td>\n      <td>Boston</td>\n      <td>Massachusetts</td>\n      <td>United States of America (the)</td>\n      <td>80.6875</td>\n    </tr>\n    <tr>\n      <th>2</th>\n      <td>3</td>\n      <td>Charlotte Douglas International</td>\n      <td>Charlotte</td>\n      <td>North Carolina</td>\n      <td>United States of America (the)</td>\n      <td>73.0000</td>\n    </tr>\n    <tr>\n      <th>3</th>\n      <td>3</td>\n      <td>Chicago OHare International</td>\n      <td>Chicago</td>\n      <td>Illinois</td>\n      <td>United States of America (the)</td>\n      <td>77.8125</td>\n    </tr>\n    <tr>\n      <th>4</th>\n      <td>3</td>\n      <td>Dallas/Fort Worth International</td>\n      <td>Grapevine</td>\n      <td>Texas</td>\n      <td>United States of America (the)</td>\n      <td>70.9375</td>\n    </tr>\n    <tr>\n      <th>5</th>\n      <td>3</td>\n      <td>Daniel K. Inouye International</td>\n      <td>Urban Honolulu</td>\n      <td>Hawaii</td>\n      <td>United States of America (the)</td>\n      <td>95.0000</td>\n    </tr>\n    <tr>\n      <th>...</th>\n      <td>...</td>\n      <td>...</td>\n      <td>...</td>\n      <td>...</td>\n      <td>...</td>\n      <td>...</td>\n    </tr>\n    <tr>\n      <th>213</th>\n      <td>10</td>\n      <td>Miami International</td>\n      <td>Miami Springs</td>\n      <td>Florida</td>\n      <td>United States of America (the)</td>\n      <td>66.6250</td>\n    </tr>\n    <tr>\n      <th>216</th>\n      <td>10</td>\n      <td>Newark Liberty International</td>\n      <td>Newark</td>\n      <td>New Jersey</td>\n      <td>United States of America (the)</td>\n      <td>98.9375</td>\n    </tr>\n    <tr>\n      <th>217</th>\n      <td>10</td>\n      <td>San Francisco International</td>\n      <td>South San Francisco</td>\n      <td>California</td>\n      <td>United States of America (the)</td>\n      <td>51.6250</td>\n    </tr>\n    <tr>\n      <th>219</th>\n      <td>10</td>\n      <td>Seattle-Tacoma International</td>\n      <td>SeaTac</td>\n      <td>Washington</td>\n      <td>United States of America (the)</td>\n      <td>68.0625</td>\n    </tr>\n    <tr>\n      <th>222</th>\n      <td>10</td>\n      <td>Washington Dulles International</td>\n      <td>Floris</td>\n      <td>Virginia</td>\n      <td>United States of America (the)</td>\n      <td>64.1250</td>\n    </tr>\n  </tbody>\n</table>\n<p>136 rows × 6 columns</p>\n</div>"
     },
     "metadata": {},
     "execution_count": 22
    }
   ],
   "source": [
    "# aggregated flight data - only need the US data\n",
    "df_flight = pd.read_csv('flight_result.csv',names=['Month','Airport','City','State','Country','Percentage'])\n",
    "df_flight=df_flight.loc[df_flight['Country']=='United States of America (the)']\n",
    "df_flight"
   ]
  },
  {
   "cell_type": "code",
   "execution_count": 10,
   "metadata": {},
   "outputs": [
    {
     "output_type": "execute_result",
     "data": {
      "text/plain": [
       "                     State    1    2        3         4        5         6  \\\n",
       "0                  Alabama  0.0  0.0   1063.0    6124.0  11013.0   20277.0   \n",
       "1                   Alaska  0.0  0.0    129.0     231.0    124.0     658.0   \n",
       "2            AmericanSamoa  0.0  0.0      0.0       0.0      0.0       0.0   \n",
       "3                  Arizona  1.0  0.0   1288.0    6366.0  12281.0   59292.0   \n",
       "4                 Arkansas  0.0  0.0    523.0    2758.0   3972.0   13524.0   \n",
       "5               California  3.0  9.0   8221.0   41897.0  61821.0  119467.0   \n",
       "6                 Colorado  0.0  0.0   2966.0   12318.0  11094.0    6337.0   \n",
       "7              Connecticut  0.0  0.0   3128.0   24572.0  14501.0    4313.0   \n",
       "8                 Delaware  0.0  0.0    319.0    4415.0   4764.0    1976.0   \n",
       "9       DistrictofColumbia  0.0  0.0    495.0    3828.0   4478.0    1526.0   \n",
       "10                 Florida  0.0  0.0   6741.0   26949.0  22473.0   96271.0   \n",
       "11                 Georgia  0.0  0.0   3929.0   22335.0  20799.0   34228.0   \n",
       "12                    Guam  0.0  0.0     69.0      76.0     27.0      85.0   \n",
       "13                  Hawaii  0.0  0.0    204.0     414.0     34.0     265.0   \n",
       "14                   Idaho  0.0  0.0    515.0    1469.0    855.0    3278.0   \n",
       "15                Illinois  2.0  0.0   5992.0   46924.0  67342.0   22925.0   \n",
       "16                 Indiana  0.0  0.0   2158.0   15677.0  16739.0   11020.0   \n",
       "17                    Iowa  0.0  0.0    497.0    6648.0  12407.0    9522.0   \n",
       "18                  Kansas  0.0  0.0    434.0    3979.0   5287.0    4670.0   \n",
       "19                Kentucky  0.0  0.0    628.0    4080.0   4996.0    5920.0   \n",
       "20               Louisiana  0.0  0.0   5237.0   22764.0  11915.0   18179.0   \n",
       "21                   Maine  0.0  0.0    303.0     792.0   1230.0     928.0   \n",
       "22                Maryland  0.0  0.0   1660.0   20082.0  31036.0   14781.0   \n",
       "23           Massachusetts  1.0  1.0   9922.0   56943.0  30393.0    7180.0   \n",
       "24                Michigan  0.0  0.0   7951.0   35527.0  19233.0    8017.0   \n",
       "25               Minnesota  0.0  0.0    629.0    4507.0  19714.0   11453.0   \n",
       "26             Mississippi  0.0  0.0    937.0    5878.0   8708.0   11724.0   \n",
       "27                Missouri  0.0  0.0   1550.0    6406.0   5617.0    8239.0   \n",
       "28                 Montana  0.0  0.0    198.0     255.0     62.0     452.0   \n",
       "29                Nebraska  0.0  0.0    172.0    4109.0   9820.0    5076.0   \n",
       "30                  Nevada  0.0  0.0   1114.0    3939.0   3575.0    9828.0   \n",
       "31            NewHampshire  0.0  0.0    357.0    1789.0   2505.0    1131.0   \n",
       "32               NewJersey  0.0  0.0  18696.0   99956.0  41793.0   11222.0   \n",
       "33               NewMexico  0.0  0.0    315.0    3096.0   4278.0    4458.0   \n",
       "34                 NewYork  0.0  0.0  75853.0  228519.0  66398.0   22684.0   \n",
       "35           NorthCarolina  0.0  0.0   1578.0    9542.0  18394.0   37712.0   \n",
       "36             NorthDakota  0.0  0.0    122.0     945.0   1510.0     999.0   \n",
       "37  NorthernMarianaIslands  0.0  0.0      2.0      12.0      8.0       8.0   \n",
       "38                    Ohio  0.0  0.0   2199.0   15828.0  17486.0   16276.0   \n",
       "39                Oklahoma  0.0  0.0    568.0    3050.0   2800.0    7339.0   \n",
       "40                  Oregon  0.0  1.0    689.0    1820.0   1733.0    4413.0   \n",
       "41            Pennsylvania  0.0  0.0   4963.0   43008.0  28158.0   15010.0   \n",
       "42              PuertoRico  0.0  0.0    239.0     710.0    339.0     405.0   \n",
       "43             RhodeIsland  0.0  0.0    488.0    8133.0   6307.0    1885.0   \n",
       "44           SouthCarolina  0.0  0.0   1083.0    5012.0   5766.0   24538.0   \n",
       "45             SouthDakota  0.0  0.0    108.0    2341.0   2544.0    1771.0   \n",
       "46               Tennessee  0.0  0.0   2391.0    8344.0  11831.0   20943.0   \n",
       "47                   Texas  0.0  0.0   3809.0   24939.0  35925.0   98458.0   \n",
       "48                    Utah  0.0  0.0    888.0    3784.0   5125.0   12420.0   \n",
       "49                 Vermont  0.0  0.0    293.0     573.0    115.0     227.0   \n",
       "50           VirginIslands  0.0  0.0     30.0      36.0      3.0      12.0   \n",
       "51                Virginia  0.0  0.0   1249.0   14598.0  28760.0   18180.0   \n",
       "52              Washington  0.0  6.0   5425.0    8895.0   7375.0   11122.0   \n",
       "53            WestVirginia  0.0  0.0    162.0     963.0    885.0     895.0   \n",
       "54               Wisconsin  0.0  0.0   1412.0    5442.0  11549.0   10256.0   \n",
       "55                 Wyoming  0.0  0.0    109.0     450.0    344.0     584.0   \n",
       "\n",
       "           7         8         9        10        11        12  \n",
       "0    49789.0   38234.0   28272.0   38841.0   55911.0   20353.0  \n",
       "1     2574.0    2457.0    2672.0    7510.0   16221.0    4460.0  \n",
       "2        0.0       0.0       0.0       0.0       0.0       0.0  \n",
       "3    94782.0   27825.0   16672.0   27439.0   80871.0   37459.0  \n",
       "4    21734.0   18713.0   22473.0   28493.0   45169.0   13565.0  \n",
       "5   269138.0  211919.0  106640.0  113028.0  298121.0  136409.0  \n",
       "6    14094.0   10615.0   13112.0   36814.0  125555.0   27676.0  \n",
       "7     3296.0    3069.0    4671.0   13657.0   46088.0   10420.0  \n",
       "8     3314.0    2641.0    3184.0    4338.0   10703.0    4258.0  \n",
       "9     1799.0    1866.0    1334.0    1940.0    4286.0    1584.0  \n",
       "10  317952.0  153085.0   83045.0   96031.0  196772.0   58755.0  \n",
       "11  105061.0   84119.0   47555.0   42764.0  110773.0   29842.0  \n",
       "12      99.0    1039.0    1093.0    2193.0    2171.0     107.0  \n",
       "13    1194.0    6361.0    4125.0    2687.0    2939.0     619.0  \n",
       "14   14599.0   11365.0    9967.0   22560.0   37090.0    8812.0  \n",
       "15   36930.0   56609.0   58996.0  120827.0  309757.0   61269.0  \n",
       "16   20560.0   28042.0   25823.0   59339.0  159619.0   42640.0  \n",
       "17   15679.0   20386.0   24108.0   39263.0  102121.0   14060.0  \n",
       "18   12994.0   15235.0   18576.0   25768.0   72972.0   11449.0  \n",
       "19   14527.0   18245.0   20444.0   38379.0   71822.0   21590.0  \n",
       "20   58185.0   32614.0   18564.0   19191.0   45765.0   18709.0  \n",
       "21     659.0     617.0     860.0    1273.0    5095.0    1591.0  \n",
       "22   20787.0   19903.0   16476.0   20556.0   53089.0   16657.0  \n",
       "23    7396.0    9182.0   11098.0   26460.0   67556.0   30712.0  \n",
       "24   19846.0   22451.0   24989.0   59392.0  191536.0   37634.0  \n",
       "25   18160.0   21401.0   23270.0   49338.0  170291.0   32099.0  \n",
       "26   31500.0   24203.0   15240.0   21970.0   33110.0   11661.0  \n",
       "27   28804.0   35019.0   41080.0   59277.0  120214.0   23214.0  \n",
       "28    2998.0    3456.0    5650.0   19730.0   29397.0    5677.0  \n",
       "29    7034.0    8076.0   11277.0   25168.0   57675.0   11427.0  \n",
       "30   29632.0   21140.0   10752.0   20781.0   51410.0   15969.0  \n",
       "31     801.0     692.0     991.0    2818.0    9946.0    3858.0  \n",
       "32    9993.0   10300.0   13315.0   32611.0   99418.0   30712.0  \n",
       "33    8453.0    4752.0    4083.0   17055.0   50605.0   10993.0  \n",
       "34   21560.0   19742.0   23893.0   48894.0  140437.0   57847.0  \n",
       "35   58452.0   47201.0   37753.0   64003.0   89877.0   30478.0  \n",
       "36    2893.0    5347.0   10030.0   22070.0   35336.0    3729.0  \n",
       "37      12.0      14.0      14.0      22.0      14.0       3.0  \n",
       "38   39370.0   31996.0   30832.0   61710.0  205366.0   53961.0  \n",
       "39   22730.0   22246.0   28466.0   35563.0   74983.0   18741.0  \n",
       "40    9836.0    8221.0    6796.0   11412.0   30510.0    9065.0  \n",
       "41   25648.0   22008.0   25304.0   48692.0  154044.0   56265.0  \n",
       "42    4304.0    9479.0    8524.0   10138.0   18407.0    4126.0  \n",
       "43    2209.0    2927.0    2799.0    8126.0   23849.0    5414.0  \n",
       "44   52617.0   29976.0   28950.0   28670.0   40875.0   14612.0  \n",
       "45    2000.0    4745.0    8880.0   23603.0   34472.0    5527.0  \n",
       "46   62450.0   48974.0   41206.0   64533.0  113821.0   26101.0  \n",
       "47  276502.0  196325.0  141787.0  163567.0  297440.0   83986.0  \n",
       "48   17979.0   11911.0   20935.0   41614.0   81050.0   19701.0  \n",
       "49     206.0     210.0     128.0     427.0    1993.0     843.0  \n",
       "50     325.0     728.0     184.0      58.0     168.0      89.0  \n",
       "51   27101.0   30706.0   27677.0   32919.0   56645.0   17218.0  \n",
       "52   22979.0   18832.0   12887.0   19979.0   57518.0   12428.0  \n",
       "53    3674.0    3670.0    5601.0    8610.0   23382.0    7155.0  \n",
       "54   24281.0   22663.0   46671.0  115595.0  173861.0   29337.0  \n",
       "55    1239.0    1124.0    2098.0    7350.0   20007.0    2913.0  "
      ],
      "text/html": "<div>\n<style scoped>\n    .dataframe tbody tr th:only-of-type {\n        vertical-align: middle;\n    }\n\n    .dataframe tbody tr th {\n        vertical-align: top;\n    }\n\n    .dataframe thead th {\n        text-align: right;\n    }\n</style>\n<table border=\"1\" class=\"dataframe\">\n  <thead>\n    <tr style=\"text-align: right;\">\n      <th></th>\n      <th>State</th>\n      <th>1</th>\n      <th>2</th>\n      <th>3</th>\n      <th>4</th>\n      <th>5</th>\n      <th>6</th>\n      <th>7</th>\n      <th>8</th>\n      <th>9</th>\n      <th>10</th>\n      <th>11</th>\n      <th>12</th>\n    </tr>\n  </thead>\n  <tbody>\n    <tr>\n      <th>0</th>\n      <td>Alabama</td>\n      <td>0.0</td>\n      <td>0.0</td>\n      <td>1063.0</td>\n      <td>6124.0</td>\n      <td>11013.0</td>\n      <td>20277.0</td>\n      <td>49789.0</td>\n      <td>38234.0</td>\n      <td>28272.0</td>\n      <td>38841.0</td>\n      <td>55911.0</td>\n      <td>20353.0</td>\n    </tr>\n    <tr>\n      <th>1</th>\n      <td>Alaska</td>\n      <td>0.0</td>\n      <td>0.0</td>\n      <td>129.0</td>\n      <td>231.0</td>\n      <td>124.0</td>\n      <td>658.0</td>\n      <td>2574.0</td>\n      <td>2457.0</td>\n      <td>2672.0</td>\n      <td>7510.0</td>\n      <td>16221.0</td>\n      <td>4460.0</td>\n    </tr>\n    <tr>\n      <th>2</th>\n      <td>AmericanSamoa</td>\n      <td>0.0</td>\n      <td>0.0</td>\n      <td>0.0</td>\n      <td>0.0</td>\n      <td>0.0</td>\n      <td>0.0</td>\n      <td>0.0</td>\n      <td>0.0</td>\n      <td>0.0</td>\n      <td>0.0</td>\n      <td>0.0</td>\n      <td>0.0</td>\n    </tr>\n    <tr>\n      <th>3</th>\n      <td>Arizona</td>\n      <td>1.0</td>\n      <td>0.0</td>\n      <td>1288.0</td>\n      <td>6366.0</td>\n      <td>12281.0</td>\n      <td>59292.0</td>\n      <td>94782.0</td>\n      <td>27825.0</td>\n      <td>16672.0</td>\n      <td>27439.0</td>\n      <td>80871.0</td>\n      <td>37459.0</td>\n    </tr>\n    <tr>\n      <th>4</th>\n      <td>Arkansas</td>\n      <td>0.0</td>\n      <td>0.0</td>\n      <td>523.0</td>\n      <td>2758.0</td>\n      <td>3972.0</td>\n      <td>13524.0</td>\n      <td>21734.0</td>\n      <td>18713.0</td>\n      <td>22473.0</td>\n      <td>28493.0</td>\n      <td>45169.0</td>\n      <td>13565.0</td>\n    </tr>\n    <tr>\n      <th>5</th>\n      <td>California</td>\n      <td>3.0</td>\n      <td>9.0</td>\n      <td>8221.0</td>\n      <td>41897.0</td>\n      <td>61821.0</td>\n      <td>119467.0</td>\n      <td>269138.0</td>\n      <td>211919.0</td>\n      <td>106640.0</td>\n      <td>113028.0</td>\n      <td>298121.0</td>\n      <td>136409.0</td>\n    </tr>\n    <tr>\n      <th>6</th>\n      <td>Colorado</td>\n      <td>0.0</td>\n      <td>0.0</td>\n      <td>2966.0</td>\n      <td>12318.0</td>\n      <td>11094.0</td>\n      <td>6337.0</td>\n      <td>14094.0</td>\n      <td>10615.0</td>\n      <td>13112.0</td>\n      <td>36814.0</td>\n      <td>125555.0</td>\n      <td>27676.0</td>\n    </tr>\n    <tr>\n      <th>7</th>\n      <td>Connecticut</td>\n      <td>0.0</td>\n      <td>0.0</td>\n      <td>3128.0</td>\n      <td>24572.0</td>\n      <td>14501.0</td>\n      <td>4313.0</td>\n      <td>3296.0</td>\n      <td>3069.0</td>\n      <td>4671.0</td>\n      <td>13657.0</td>\n      <td>46088.0</td>\n      <td>10420.0</td>\n    </tr>\n    <tr>\n      <th>8</th>\n      <td>Delaware</td>\n      <td>0.0</td>\n      <td>0.0</td>\n      <td>319.0</td>\n      <td>4415.0</td>\n      <td>4764.0</td>\n      <td>1976.0</td>\n      <td>3314.0</td>\n      <td>2641.0</td>\n      <td>3184.0</td>\n      <td>4338.0</td>\n      <td>10703.0</td>\n      <td>4258.0</td>\n    </tr>\n    <tr>\n      <th>9</th>\n      <td>DistrictofColumbia</td>\n      <td>0.0</td>\n      <td>0.0</td>\n      <td>495.0</td>\n      <td>3828.0</td>\n      <td>4478.0</td>\n      <td>1526.0</td>\n      <td>1799.0</td>\n      <td>1866.0</td>\n      <td>1334.0</td>\n      <td>1940.0</td>\n      <td>4286.0</td>\n      <td>1584.0</td>\n    </tr>\n    <tr>\n      <th>10</th>\n      <td>Florida</td>\n      <td>0.0</td>\n      <td>0.0</td>\n      <td>6741.0</td>\n      <td>26949.0</td>\n      <td>22473.0</td>\n      <td>96271.0</td>\n      <td>317952.0</td>\n      <td>153085.0</td>\n      <td>83045.0</td>\n      <td>96031.0</td>\n      <td>196772.0</td>\n      <td>58755.0</td>\n    </tr>\n    <tr>\n      <th>11</th>\n      <td>Georgia</td>\n      <td>0.0</td>\n      <td>0.0</td>\n      <td>3929.0</td>\n      <td>22335.0</td>\n      <td>20799.0</td>\n      <td>34228.0</td>\n      <td>105061.0</td>\n      <td>84119.0</td>\n      <td>47555.0</td>\n      <td>42764.0</td>\n      <td>110773.0</td>\n      <td>29842.0</td>\n    </tr>\n    <tr>\n      <th>12</th>\n      <td>Guam</td>\n      <td>0.0</td>\n      <td>0.0</td>\n      <td>69.0</td>\n      <td>76.0</td>\n      <td>27.0</td>\n      <td>85.0</td>\n      <td>99.0</td>\n      <td>1039.0</td>\n      <td>1093.0</td>\n      <td>2193.0</td>\n      <td>2171.0</td>\n      <td>107.0</td>\n    </tr>\n    <tr>\n      <th>13</th>\n      <td>Hawaii</td>\n      <td>0.0</td>\n      <td>0.0</td>\n      <td>204.0</td>\n      <td>414.0</td>\n      <td>34.0</td>\n      <td>265.0</td>\n      <td>1194.0</td>\n      <td>6361.0</td>\n      <td>4125.0</td>\n      <td>2687.0</td>\n      <td>2939.0</td>\n      <td>619.0</td>\n    </tr>\n    <tr>\n      <th>14</th>\n      <td>Idaho</td>\n      <td>0.0</td>\n      <td>0.0</td>\n      <td>515.0</td>\n      <td>1469.0</td>\n      <td>855.0</td>\n      <td>3278.0</td>\n      <td>14599.0</td>\n      <td>11365.0</td>\n      <td>9967.0</td>\n      <td>22560.0</td>\n      <td>37090.0</td>\n      <td>8812.0</td>\n    </tr>\n    <tr>\n      <th>15</th>\n      <td>Illinois</td>\n      <td>2.0</td>\n      <td>0.0</td>\n      <td>5992.0</td>\n      <td>46924.0</td>\n      <td>67342.0</td>\n      <td>22925.0</td>\n      <td>36930.0</td>\n      <td>56609.0</td>\n      <td>58996.0</td>\n      <td>120827.0</td>\n      <td>309757.0</td>\n      <td>61269.0</td>\n    </tr>\n    <tr>\n      <th>16</th>\n      <td>Indiana</td>\n      <td>0.0</td>\n      <td>0.0</td>\n      <td>2158.0</td>\n      <td>15677.0</td>\n      <td>16739.0</td>\n      <td>11020.0</td>\n      <td>20560.0</td>\n      <td>28042.0</td>\n      <td>25823.0</td>\n      <td>59339.0</td>\n      <td>159619.0</td>\n      <td>42640.0</td>\n    </tr>\n    <tr>\n      <th>17</th>\n      <td>Iowa</td>\n      <td>0.0</td>\n      <td>0.0</td>\n      <td>497.0</td>\n      <td>6648.0</td>\n      <td>12407.0</td>\n      <td>9522.0</td>\n      <td>15679.0</td>\n      <td>20386.0</td>\n      <td>24108.0</td>\n      <td>39263.0</td>\n      <td>102121.0</td>\n      <td>14060.0</td>\n    </tr>\n    <tr>\n      <th>18</th>\n      <td>Kansas</td>\n      <td>0.0</td>\n      <td>0.0</td>\n      <td>434.0</td>\n      <td>3979.0</td>\n      <td>5287.0</td>\n      <td>4670.0</td>\n      <td>12994.0</td>\n      <td>15235.0</td>\n      <td>18576.0</td>\n      <td>25768.0</td>\n      <td>72972.0</td>\n      <td>11449.0</td>\n    </tr>\n    <tr>\n      <th>19</th>\n      <td>Kentucky</td>\n      <td>0.0</td>\n      <td>0.0</td>\n      <td>628.0</td>\n      <td>4080.0</td>\n      <td>4996.0</td>\n      <td>5920.0</td>\n      <td>14527.0</td>\n      <td>18245.0</td>\n      <td>20444.0</td>\n      <td>38379.0</td>\n      <td>71822.0</td>\n      <td>21590.0</td>\n    </tr>\n    <tr>\n      <th>20</th>\n      <td>Louisiana</td>\n      <td>0.0</td>\n      <td>0.0</td>\n      <td>5237.0</td>\n      <td>22764.0</td>\n      <td>11915.0</td>\n      <td>18179.0</td>\n      <td>58185.0</td>\n      <td>32614.0</td>\n      <td>18564.0</td>\n      <td>19191.0</td>\n      <td>45765.0</td>\n      <td>18709.0</td>\n    </tr>\n    <tr>\n      <th>21</th>\n      <td>Maine</td>\n      <td>0.0</td>\n      <td>0.0</td>\n      <td>303.0</td>\n      <td>792.0</td>\n      <td>1230.0</td>\n      <td>928.0</td>\n      <td>659.0</td>\n      <td>617.0</td>\n      <td>860.0</td>\n      <td>1273.0</td>\n      <td>5095.0</td>\n      <td>1591.0</td>\n    </tr>\n    <tr>\n      <th>22</th>\n      <td>Maryland</td>\n      <td>0.0</td>\n      <td>0.0</td>\n      <td>1660.0</td>\n      <td>20082.0</td>\n      <td>31036.0</td>\n      <td>14781.0</td>\n      <td>20787.0</td>\n      <td>19903.0</td>\n      <td>16476.0</td>\n      <td>20556.0</td>\n      <td>53089.0</td>\n      <td>16657.0</td>\n    </tr>\n    <tr>\n      <th>23</th>\n      <td>Massachusetts</td>\n      <td>1.0</td>\n      <td>1.0</td>\n      <td>9922.0</td>\n      <td>56943.0</td>\n      <td>30393.0</td>\n      <td>7180.0</td>\n      <td>7396.0</td>\n      <td>9182.0</td>\n      <td>11098.0</td>\n      <td>26460.0</td>\n      <td>67556.0</td>\n      <td>30712.0</td>\n    </tr>\n    <tr>\n      <th>24</th>\n      <td>Michigan</td>\n      <td>0.0</td>\n      <td>0.0</td>\n      <td>7951.0</td>\n      <td>35527.0</td>\n      <td>19233.0</td>\n      <td>8017.0</td>\n      <td>19846.0</td>\n      <td>22451.0</td>\n      <td>24989.0</td>\n      <td>59392.0</td>\n      <td>191536.0</td>\n      <td>37634.0</td>\n    </tr>\n    <tr>\n      <th>25</th>\n      <td>Minnesota</td>\n      <td>0.0</td>\n      <td>0.0</td>\n      <td>629.0</td>\n      <td>4507.0</td>\n      <td>19714.0</td>\n      <td>11453.0</td>\n      <td>18160.0</td>\n      <td>21401.0</td>\n      <td>23270.0</td>\n      <td>49338.0</td>\n      <td>170291.0</td>\n      <td>32099.0</td>\n    </tr>\n    <tr>\n      <th>26</th>\n      <td>Mississippi</td>\n      <td>0.0</td>\n      <td>0.0</td>\n      <td>937.0</td>\n      <td>5878.0</td>\n      <td>8708.0</td>\n      <td>11724.0</td>\n      <td>31500.0</td>\n      <td>24203.0</td>\n      <td>15240.0</td>\n      <td>21970.0</td>\n      <td>33110.0</td>\n      <td>11661.0</td>\n    </tr>\n    <tr>\n      <th>27</th>\n      <td>Missouri</td>\n      <td>0.0</td>\n      <td>0.0</td>\n      <td>1550.0</td>\n      <td>6406.0</td>\n      <td>5617.0</td>\n      <td>8239.0</td>\n      <td>28804.0</td>\n      <td>35019.0</td>\n      <td>41080.0</td>\n      <td>59277.0</td>\n      <td>120214.0</td>\n      <td>23214.0</td>\n    </tr>\n    <tr>\n      <th>28</th>\n      <td>Montana</td>\n      <td>0.0</td>\n      <td>0.0</td>\n      <td>198.0</td>\n      <td>255.0</td>\n      <td>62.0</td>\n      <td>452.0</td>\n      <td>2998.0</td>\n      <td>3456.0</td>\n      <td>5650.0</td>\n      <td>19730.0</td>\n      <td>29397.0</td>\n      <td>5677.0</td>\n    </tr>\n    <tr>\n      <th>29</th>\n      <td>Nebraska</td>\n      <td>0.0</td>\n      <td>0.0</td>\n      <td>172.0</td>\n      <td>4109.0</td>\n      <td>9820.0</td>\n      <td>5076.0</td>\n      <td>7034.0</td>\n      <td>8076.0</td>\n      <td>11277.0</td>\n      <td>25168.0</td>\n      <td>57675.0</td>\n      <td>11427.0</td>\n    </tr>\n    <tr>\n      <th>30</th>\n      <td>Nevada</td>\n      <td>0.0</td>\n      <td>0.0</td>\n      <td>1114.0</td>\n      <td>3939.0</td>\n      <td>3575.0</td>\n      <td>9828.0</td>\n      <td>29632.0</td>\n      <td>21140.0</td>\n      <td>10752.0</td>\n      <td>20781.0</td>\n      <td>51410.0</td>\n      <td>15969.0</td>\n    </tr>\n    <tr>\n      <th>31</th>\n      <td>NewHampshire</td>\n      <td>0.0</td>\n      <td>0.0</td>\n      <td>357.0</td>\n      <td>1789.0</td>\n      <td>2505.0</td>\n      <td>1131.0</td>\n      <td>801.0</td>\n      <td>692.0</td>\n      <td>991.0</td>\n      <td>2818.0</td>\n      <td>9946.0</td>\n      <td>3858.0</td>\n    </tr>\n    <tr>\n      <th>32</th>\n      <td>NewJersey</td>\n      <td>0.0</td>\n      <td>0.0</td>\n      <td>18696.0</td>\n      <td>99956.0</td>\n      <td>41793.0</td>\n      <td>11222.0</td>\n      <td>9993.0</td>\n      <td>10300.0</td>\n      <td>13315.0</td>\n      <td>32611.0</td>\n      <td>99418.0</td>\n      <td>30712.0</td>\n    </tr>\n    <tr>\n      <th>33</th>\n      <td>NewMexico</td>\n      <td>0.0</td>\n      <td>0.0</td>\n      <td>315.0</td>\n      <td>3096.0</td>\n      <td>4278.0</td>\n      <td>4458.0</td>\n      <td>8453.0</td>\n      <td>4752.0</td>\n      <td>4083.0</td>\n      <td>17055.0</td>\n      <td>50605.0</td>\n      <td>10993.0</td>\n    </tr>\n    <tr>\n      <th>34</th>\n      <td>NewYork</td>\n      <td>0.0</td>\n      <td>0.0</td>\n      <td>75853.0</td>\n      <td>228519.0</td>\n      <td>66398.0</td>\n      <td>22684.0</td>\n      <td>21560.0</td>\n      <td>19742.0</td>\n      <td>23893.0</td>\n      <td>48894.0</td>\n      <td>140437.0</td>\n      <td>57847.0</td>\n    </tr>\n    <tr>\n      <th>35</th>\n      <td>NorthCarolina</td>\n      <td>0.0</td>\n      <td>0.0</td>\n      <td>1578.0</td>\n      <td>9542.0</td>\n      <td>18394.0</td>\n      <td>37712.0</td>\n      <td>58452.0</td>\n      <td>47201.0</td>\n      <td>37753.0</td>\n      <td>64003.0</td>\n      <td>89877.0</td>\n      <td>30478.0</td>\n    </tr>\n    <tr>\n      <th>36</th>\n      <td>NorthDakota</td>\n      <td>0.0</td>\n      <td>0.0</td>\n      <td>122.0</td>\n      <td>945.0</td>\n      <td>1510.0</td>\n      <td>999.0</td>\n      <td>2893.0</td>\n      <td>5347.0</td>\n      <td>10030.0</td>\n      <td>22070.0</td>\n      <td>35336.0</td>\n      <td>3729.0</td>\n    </tr>\n    <tr>\n      <th>37</th>\n      <td>NorthernMarianaIslands</td>\n      <td>0.0</td>\n      <td>0.0</td>\n      <td>2.0</td>\n      <td>12.0</td>\n      <td>8.0</td>\n      <td>8.0</td>\n      <td>12.0</td>\n      <td>14.0</td>\n      <td>14.0</td>\n      <td>22.0</td>\n      <td>14.0</td>\n      <td>3.0</td>\n    </tr>\n    <tr>\n      <th>38</th>\n      <td>Ohio</td>\n      <td>0.0</td>\n      <td>0.0</td>\n      <td>2199.0</td>\n      <td>15828.0</td>\n      <td>17486.0</td>\n      <td>16276.0</td>\n      <td>39370.0</td>\n      <td>31996.0</td>\n      <td>30832.0</td>\n      <td>61710.0</td>\n      <td>205366.0</td>\n      <td>53961.0</td>\n    </tr>\n    <tr>\n      <th>39</th>\n      <td>Oklahoma</td>\n      <td>0.0</td>\n      <td>0.0</td>\n      <td>568.0</td>\n      <td>3050.0</td>\n      <td>2800.0</td>\n      <td>7339.0</td>\n      <td>22730.0</td>\n      <td>22246.0</td>\n      <td>28466.0</td>\n      <td>35563.0</td>\n      <td>74983.0</td>\n      <td>18741.0</td>\n    </tr>\n    <tr>\n      <th>40</th>\n      <td>Oregon</td>\n      <td>0.0</td>\n      <td>1.0</td>\n      <td>689.0</td>\n      <td>1820.0</td>\n      <td>1733.0</td>\n      <td>4413.0</td>\n      <td>9836.0</td>\n      <td>8221.0</td>\n      <td>6796.0</td>\n      <td>11412.0</td>\n      <td>30510.0</td>\n      <td>9065.0</td>\n    </tr>\n    <tr>\n      <th>41</th>\n      <td>Pennsylvania</td>\n      <td>0.0</td>\n      <td>0.0</td>\n      <td>4963.0</td>\n      <td>43008.0</td>\n      <td>28158.0</td>\n      <td>15010.0</td>\n      <td>25648.0</td>\n      <td>22008.0</td>\n      <td>25304.0</td>\n      <td>48692.0</td>\n      <td>154044.0</td>\n      <td>56265.0</td>\n    </tr>\n    <tr>\n      <th>42</th>\n      <td>PuertoRico</td>\n      <td>0.0</td>\n      <td>0.0</td>\n      <td>239.0</td>\n      <td>710.0</td>\n      <td>339.0</td>\n      <td>405.0</td>\n      <td>4304.0</td>\n      <td>9479.0</td>\n      <td>8524.0</td>\n      <td>10138.0</td>\n      <td>18407.0</td>\n      <td>4126.0</td>\n    </tr>\n    <tr>\n      <th>43</th>\n      <td>RhodeIsland</td>\n      <td>0.0</td>\n      <td>0.0</td>\n      <td>488.0</td>\n      <td>8133.0</td>\n      <td>6307.0</td>\n      <td>1885.0</td>\n      <td>2209.0</td>\n      <td>2927.0</td>\n      <td>2799.0</td>\n      <td>8126.0</td>\n      <td>23849.0</td>\n      <td>5414.0</td>\n    </tr>\n    <tr>\n      <th>44</th>\n      <td>SouthCarolina</td>\n      <td>0.0</td>\n      <td>0.0</td>\n      <td>1083.0</td>\n      <td>5012.0</td>\n      <td>5766.0</td>\n      <td>24538.0</td>\n      <td>52617.0</td>\n      <td>29976.0</td>\n      <td>28950.0</td>\n      <td>28670.0</td>\n      <td>40875.0</td>\n      <td>14612.0</td>\n    </tr>\n    <tr>\n      <th>45</th>\n      <td>SouthDakota</td>\n      <td>0.0</td>\n      <td>0.0</td>\n      <td>108.0</td>\n      <td>2341.0</td>\n      <td>2544.0</td>\n      <td>1771.0</td>\n      <td>2000.0</td>\n      <td>4745.0</td>\n      <td>8880.0</td>\n      <td>23603.0</td>\n      <td>34472.0</td>\n      <td>5527.0</td>\n    </tr>\n    <tr>\n      <th>46</th>\n      <td>Tennessee</td>\n      <td>0.0</td>\n      <td>0.0</td>\n      <td>2391.0</td>\n      <td>8344.0</td>\n      <td>11831.0</td>\n      <td>20943.0</td>\n      <td>62450.0</td>\n      <td>48974.0</td>\n      <td>41206.0</td>\n      <td>64533.0</td>\n      <td>113821.0</td>\n      <td>26101.0</td>\n    </tr>\n    <tr>\n      <th>47</th>\n      <td>Texas</td>\n      <td>0.0</td>\n      <td>0.0</td>\n      <td>3809.0</td>\n      <td>24939.0</td>\n      <td>35925.0</td>\n      <td>98458.0</td>\n      <td>276502.0</td>\n      <td>196325.0</td>\n      <td>141787.0</td>\n      <td>163567.0</td>\n      <td>297440.0</td>\n      <td>83986.0</td>\n    </tr>\n    <tr>\n      <th>48</th>\n      <td>Utah</td>\n      <td>0.0</td>\n      <td>0.0</td>\n      <td>888.0</td>\n      <td>3784.0</td>\n      <td>5125.0</td>\n      <td>12420.0</td>\n      <td>17979.0</td>\n      <td>11911.0</td>\n      <td>20935.0</td>\n      <td>41614.0</td>\n      <td>81050.0</td>\n      <td>19701.0</td>\n    </tr>\n    <tr>\n      <th>49</th>\n      <td>Vermont</td>\n      <td>0.0</td>\n      <td>0.0</td>\n      <td>293.0</td>\n      <td>573.0</td>\n      <td>115.0</td>\n      <td>227.0</td>\n      <td>206.0</td>\n      <td>210.0</td>\n      <td>128.0</td>\n      <td>427.0</td>\n      <td>1993.0</td>\n      <td>843.0</td>\n    </tr>\n    <tr>\n      <th>50</th>\n      <td>VirginIslands</td>\n      <td>0.0</td>\n      <td>0.0</td>\n      <td>30.0</td>\n      <td>36.0</td>\n      <td>3.0</td>\n      <td>12.0</td>\n      <td>325.0</td>\n      <td>728.0</td>\n      <td>184.0</td>\n      <td>58.0</td>\n      <td>168.0</td>\n      <td>89.0</td>\n    </tr>\n    <tr>\n      <th>51</th>\n      <td>Virginia</td>\n      <td>0.0</td>\n      <td>0.0</td>\n      <td>1249.0</td>\n      <td>14598.0</td>\n      <td>28760.0</td>\n      <td>18180.0</td>\n      <td>27101.0</td>\n      <td>30706.0</td>\n      <td>27677.0</td>\n      <td>32919.0</td>\n      <td>56645.0</td>\n      <td>17218.0</td>\n    </tr>\n    <tr>\n      <th>52</th>\n      <td>Washington</td>\n      <td>0.0</td>\n      <td>6.0</td>\n      <td>5425.0</td>\n      <td>8895.0</td>\n      <td>7375.0</td>\n      <td>11122.0</td>\n      <td>22979.0</td>\n      <td>18832.0</td>\n      <td>12887.0</td>\n      <td>19979.0</td>\n      <td>57518.0</td>\n      <td>12428.0</td>\n    </tr>\n    <tr>\n      <th>53</th>\n      <td>WestVirginia</td>\n      <td>0.0</td>\n      <td>0.0</td>\n      <td>162.0</td>\n      <td>963.0</td>\n      <td>885.0</td>\n      <td>895.0</td>\n      <td>3674.0</td>\n      <td>3670.0</td>\n      <td>5601.0</td>\n      <td>8610.0</td>\n      <td>23382.0</td>\n      <td>7155.0</td>\n    </tr>\n    <tr>\n      <th>54</th>\n      <td>Wisconsin</td>\n      <td>0.0</td>\n      <td>0.0</td>\n      <td>1412.0</td>\n      <td>5442.0</td>\n      <td>11549.0</td>\n      <td>10256.0</td>\n      <td>24281.0</td>\n      <td>22663.0</td>\n      <td>46671.0</td>\n      <td>115595.0</td>\n      <td>173861.0</td>\n      <td>29337.0</td>\n    </tr>\n    <tr>\n      <th>55</th>\n      <td>Wyoming</td>\n      <td>0.0</td>\n      <td>0.0</td>\n      <td>109.0</td>\n      <td>450.0</td>\n      <td>344.0</td>\n      <td>584.0</td>\n      <td>1239.0</td>\n      <td>1124.0</td>\n      <td>2098.0</td>\n      <td>7350.0</td>\n      <td>20007.0</td>\n      <td>2913.0</td>\n    </tr>\n  </tbody>\n</table>\n</div>"
     },
     "metadata": {},
     "execution_count": 10
    }
   ],
   "source": [
    "# aggregated covid stats data\n",
    "df_cases = pd.read_csv('case_final.csv')\n",
    "df_cases.rename(columns={'state':'State'},inplace=True)\n",
    "df_cases"
   ]
  },
  {
   "cell_type": "code",
   "execution_count": 23,
   "metadata": {},
   "outputs": [],
   "source": [
    "# prepare the mega table used for plotting -> add a column cases in the flight df\n",
    "\n",
    "month_lst = df_flight['Month'].values\n",
    "state_lst = df_flight['State'].values\n",
    "merged_list = [(month_lst[i], state_lst[i]) for i in range(0, len(month_lst))] \n",
    "\n",
    "def getCases(state,month):\n",
    "    return df_cases[df_cases['State']==state][month].values[0]\n",
    "\n",
    "case_lst = []\n",
    "for tup in merged_list:\n",
    "    state = tup[1].replace(' ','')\n",
    "    month = str(tup[0])\n",
    "    res = getCases(state,month)\n",
    "    case_lst.append(res)\n",
    "\n",
    "df_flight['Cases']=case_lst"
   ]
  },
  {
   "cell_type": "code",
   "execution_count": 24,
   "metadata": {},
   "outputs": [
    {
     "output_type": "execute_result",
     "data": {
      "text/plain": [
       "     Month                          Airport                 City  \\\n",
       "0        3       Boston Logan International               Boston   \n",
       "2        3  Charlotte Douglas International            Charlotte   \n",
       "3        3      Chicago OHare International              Chicago   \n",
       "4        3  Dallas/Fort Worth International            Grapevine   \n",
       "5        3   Daniel K. Inouye International       Urban Honolulu   \n",
       "..     ...                              ...                  ...   \n",
       "213     10              Miami International        Miami Springs   \n",
       "216     10     Newark Liberty International               Newark   \n",
       "217     10      San Francisco International  South San Francisco   \n",
       "219     10     Seattle-Tacoma International               SeaTac   \n",
       "222     10  Washington Dulles International               Floris   \n",
       "\n",
       "              State                         Country  Percentage     Cases  \n",
       "0     Massachusetts  United States of America (the)     80.6875    9922.0  \n",
       "2    North Carolina  United States of America (the)     73.0000    1578.0  \n",
       "3          Illinois  United States of America (the)     77.8125    5992.0  \n",
       "4             Texas  United States of America (the)     70.9375    3809.0  \n",
       "5            Hawaii  United States of America (the)     95.0000     204.0  \n",
       "..              ...                             ...         ...       ...  \n",
       "213         Florida  United States of America (the)     66.6250   96031.0  \n",
       "216      New Jersey  United States of America (the)     98.9375   32611.0  \n",
       "217      California  United States of America (the)     51.6250  113028.0  \n",
       "219      Washington  United States of America (the)     68.0625   19979.0  \n",
       "222        Virginia  United States of America (the)     64.1250   32919.0  \n",
       "\n",
       "[136 rows x 7 columns]"
      ],
      "text/html": "<div>\n<style scoped>\n    .dataframe tbody tr th:only-of-type {\n        vertical-align: middle;\n    }\n\n    .dataframe tbody tr th {\n        vertical-align: top;\n    }\n\n    .dataframe thead th {\n        text-align: right;\n    }\n</style>\n<table border=\"1\" class=\"dataframe\">\n  <thead>\n    <tr style=\"text-align: right;\">\n      <th></th>\n      <th>Month</th>\n      <th>Airport</th>\n      <th>City</th>\n      <th>State</th>\n      <th>Country</th>\n      <th>Percentage</th>\n      <th>Cases</th>\n    </tr>\n  </thead>\n  <tbody>\n    <tr>\n      <th>0</th>\n      <td>3</td>\n      <td>Boston Logan International</td>\n      <td>Boston</td>\n      <td>Massachusetts</td>\n      <td>United States of America (the)</td>\n      <td>80.6875</td>\n      <td>9922.0</td>\n    </tr>\n    <tr>\n      <th>2</th>\n      <td>3</td>\n      <td>Charlotte Douglas International</td>\n      <td>Charlotte</td>\n      <td>North Carolina</td>\n      <td>United States of America (the)</td>\n      <td>73.0000</td>\n      <td>1578.0</td>\n    </tr>\n    <tr>\n      <th>3</th>\n      <td>3</td>\n      <td>Chicago OHare International</td>\n      <td>Chicago</td>\n      <td>Illinois</td>\n      <td>United States of America (the)</td>\n      <td>77.8125</td>\n      <td>5992.0</td>\n    </tr>\n    <tr>\n      <th>4</th>\n      <td>3</td>\n      <td>Dallas/Fort Worth International</td>\n      <td>Grapevine</td>\n      <td>Texas</td>\n      <td>United States of America (the)</td>\n      <td>70.9375</td>\n      <td>3809.0</td>\n    </tr>\n    <tr>\n      <th>5</th>\n      <td>3</td>\n      <td>Daniel K. Inouye International</td>\n      <td>Urban Honolulu</td>\n      <td>Hawaii</td>\n      <td>United States of America (the)</td>\n      <td>95.0000</td>\n      <td>204.0</td>\n    </tr>\n    <tr>\n      <th>...</th>\n      <td>...</td>\n      <td>...</td>\n      <td>...</td>\n      <td>...</td>\n      <td>...</td>\n      <td>...</td>\n      <td>...</td>\n    </tr>\n    <tr>\n      <th>213</th>\n      <td>10</td>\n      <td>Miami International</td>\n      <td>Miami Springs</td>\n      <td>Florida</td>\n      <td>United States of America (the)</td>\n      <td>66.6250</td>\n      <td>96031.0</td>\n    </tr>\n    <tr>\n      <th>216</th>\n      <td>10</td>\n      <td>Newark Liberty International</td>\n      <td>Newark</td>\n      <td>New Jersey</td>\n      <td>United States of America (the)</td>\n      <td>98.9375</td>\n      <td>32611.0</td>\n    </tr>\n    <tr>\n      <th>217</th>\n      <td>10</td>\n      <td>San Francisco International</td>\n      <td>South San Francisco</td>\n      <td>California</td>\n      <td>United States of America (the)</td>\n      <td>51.6250</td>\n      <td>113028.0</td>\n    </tr>\n    <tr>\n      <th>219</th>\n      <td>10</td>\n      <td>Seattle-Tacoma International</td>\n      <td>SeaTac</td>\n      <td>Washington</td>\n      <td>United States of America (the)</td>\n      <td>68.0625</td>\n      <td>19979.0</td>\n    </tr>\n    <tr>\n      <th>222</th>\n      <td>10</td>\n      <td>Washington Dulles International</td>\n      <td>Floris</td>\n      <td>Virginia</td>\n      <td>United States of America (the)</td>\n      <td>64.1250</td>\n      <td>32919.0</td>\n    </tr>\n  </tbody>\n</table>\n<p>136 rows × 7 columns</p>\n</div>"
     },
     "metadata": {},
     "execution_count": 24
    }
   ],
   "source": [
    "# the final mega table with all the info we need\n",
    "df_flight"
   ]
  },
  {
   "cell_type": "markdown",
   "metadata": {},
   "source": [
    "## Build Reactive Plot with Bokeh\n",
    "* reference: https://jimking100.github.io/2019-09-04-Post-3/\n",
    "* geojson data for US states boundaries: https://eric.clst.org/tech/usgeojson/"
   ]
  },
  {
   "cell_type": "code",
   "execution_count": 13,
   "metadata": {},
   "outputs": [],
   "source": [
    "#prepare the geo info\n",
    "us_states_path = 'gz_2010_us_040_00_5m.json'\n",
    "cur_json = json.load(open(us_states_path, encoding='ISO-8859-1'))\n",
    "path,ext = os.path.splitext(us_states_path)\n",
    "new_path =path+\"_new\"+ext\n",
    "with open(new_path,\"w\", encoding='utf-8') as jsonfile:\n",
    "    json.dump(cur_json,jsonfile,ensure_ascii=False)\n",
    "us_states = gpd.read_file(new_path, driver='GeoJSON')"
   ]
  },
  {
   "cell_type": "code",
   "execution_count": 14,
   "metadata": {},
   "outputs": [],
   "source": [
    "# Set the Coordinate Referance System (crs) for projections\n",
    "# ESPG code 4326 is also referred to as WGS84 lat-long projection\n",
    "us_states.crs = {'init': 'epsg:4326'}\n",
    "us_states=us_states.rename(columns={'NAME':'State'})\n",
    "us_states.drop([1],axis=0,inplace=True)"
   ]
  },
  {
   "cell_type": "code",
   "execution_count": 15,
   "metadata": {},
   "outputs": [],
   "source": [
    "# Create a function the returns json_data for the month selected by the user\n",
    "def json_data(selectedMon):\n",
    "    mon = selectedMon\n",
    "    \n",
    "    # Pull selected year from neighborhood summary data\n",
    "    df_mon = df_flight[df_flight['Month']==mon]\n",
    "    \n",
    "    # Merge the GeoDataframe object (sf) with the neighborhood summary data (neighborhood)\n",
    "    merged = pd.merge(us_states, df_mon, on='State', how='left')\n",
    "    \n",
    "    # Bokeh uses geojson formatting, representing geographical features, with json\n",
    "    # Convert to json\n",
    "    merged_json = json.loads(merged.to_json())\n",
    "    \n",
    "    # Convert to json preferred string-like object \n",
    "    json_data = json.dumps(merged_json)\n",
    "    return json_data"
   ]
  },
  {
   "cell_type": "code",
   "execution_count": 16,
   "metadata": {},
   "outputs": [],
   "source": [
    "def update_plot(attr, old, new):\n",
    "    \n",
    "    # The input yr is the year selected from the slider\n",
    "    mon = slider.value\n",
    "    new_data = json_data(mon)\n",
    "    \n",
    "    # The input cr is the criteria selected from the select box\n",
    "    cr = select.value\n",
    "    input_field = format_df.loc[format_df['verbage'] == cr, 'field'].iloc[0]\n",
    "    \n",
    "    # Update the plot based on the changed inputs\n",
    "    p = make_plot(input_field)\n",
    "    \n",
    "    # Update the layout, clear the old document and display the new document\n",
    "    layout = column(p, widgetbox(select), widgetbox(slider))\n",
    "    curdoc().clear()\n",
    "    curdoc().add_root(layout)\n",
    "    \n",
    "    # Update the data\n",
    "    geosource.geojson = new_data"
   ]
  },
  {
   "cell_type": "code",
   "execution_count": 17,
   "metadata": {},
   "outputs": [],
   "source": [
    "# Create a plotting function\n",
    "def make_plot(field_name):    \n",
    "    # Set the format of the colorbar\n",
    "    min_range = format_df.loc[format_df['field'] == field_name, 'min_range'].iloc[0]\n",
    "    max_range = format_df.loc[format_df['field'] == field_name, 'max_range'].iloc[0]\n",
    "    field_format = format_df.loc[format_df['field'] == field_name, 'format'].iloc[0]\n",
    "    \n",
    "    # Instantiate LinearColorMapper that linearly maps numbers in a range, into a sequence of colors.\n",
    "    color_mapper = LinearColorMapper(palette = palette, low = min_range, high = max_range)\n",
    "    # Create color bar.\n",
    "    format_tick = NumeralTickFormatter(format=field_format)\n",
    "    color_bar = ColorBar(color_mapper=color_mapper, label_standoff=18, formatter=format_tick, border_line_color=None, location = (0, 0))\n",
    "    \n",
    "    # Create figure object.\n",
    "    verbage = format_df.loc[format_df['field'] == field_name, 'verbage'].iloc[0]\n",
    "    p = figure(title = verbage, plot_height = 650, plot_width = 1350, toolbar_location = None)\n",
    "    p.xgrid.grid_line_color = None\n",
    "    p.ygrid.grid_line_color = None\n",
    "    p.axis.visible = False\n",
    "    \n",
    "    # Add patch renderer to figure. \n",
    "    p.patches('xs','ys', source = geosource, fill_color = {'field' : field_name, 'transform' : color_mapper}, line_color = 'black', line_width = 0.25, fill_alpha = 1)\n",
    "    \n",
    "    # Specify color bar layout.\n",
    "    p.add_layout(color_bar, 'right')\n",
    "    \n",
    "    # Add the hover tool to the graph\n",
    "    p.add_tools(hover)\n",
    "    return p"
   ]
  },
  {
   "cell_type": "code",
   "execution_count": 18,
   "metadata": {},
   "outputs": [],
   "source": [
    "#color bar\n",
    "format_data = [('Cases',0,200000,'0','Newly Increased COVID-19 Cases'),\n",
    "              ('Percentage',0,100,'0.0','Percentage of Flight Compared to Baseline Period(Jan|Feb)')]\n",
    "format_df = pd.DataFrame(format_data, columns = ['field' , 'min_range', 'max_range' , 'format', 'verbage'])"
   ]
  },
  {
   "cell_type": "code",
   "execution_count": 19,
   "metadata": {},
   "outputs": [
    {
     "output_type": "stream",
     "name": "stderr",
     "text": [
      "BokehDeprecationWarning: 'WidgetBox' is deprecated and will be removed in Bokeh 3.0, use 'bokeh.models.Column' instead\nBokehDeprecationWarning: 'WidgetBox' is deprecated and will be removed in Bokeh 3.0, use 'bokeh.models.Column' instead\n"
     ]
    }
   ],
   "source": [
    "geosource = GeoJSONDataSource(geojson = json_data(3))\n",
    "input_field = 'Cases'\n",
    "\n",
    "# Define a sequential multi-hue color palette.\n",
    "palette = brewer['Blues'][8]\n",
    "\n",
    "# Reverse color order so that dark blue is highest obesity.\n",
    "palette = palette[::-1]\n",
    "\n",
    "hover = HoverTool(tooltips = [ ('Airport','@Airport'),('State','@State'),('City', '@City'),('%flights', '@Percentage{,}'),('#new cases', '@Cases{,}')])\n",
    "p = make_plot(input_field)\n",
    "                  \n",
    "# Make a slider object: slider \n",
    "slider = Slider(title = 'Month of 2020',start = 3, end = 10, step = 1, value = 3)\n",
    "slider.on_change('value', update_plot)\n",
    "\n",
    "# Make a selection object: select\n",
    "select = Select(title='Select Criteria:', value='Newly Increased COVID-19 Cases', options=['Newly Increased COVID-19 Cases','Percentage of Flight Compared to Baseline Period(Jan|Feb)'])\n",
    "select.on_change('value', update_plot)\n",
    "\n",
    "# Make a column layout of widgetbox(slider) and plot, and add it to the current document\n",
    "# Display the current document\n",
    "layout = column(p, widgetbox(select),widgetbox(slider))\n",
    "curdoc().add_root(layout)"
   ]
  },
  {
   "source": [
    "# running this command can create a static plot without the reactive components\n",
    "show(p)"
   ],
   "cell_type": "code",
   "metadata": {},
   "execution_count": null,
   "outputs": []
  },
  {
   "cell_type": "code",
   "execution_count": null,
   "metadata": {},
   "outputs": [],
   "source": [
    "#command for a reactive fully working plot: python -m bokeh serve --show demo-notebook.ipynb (run this in virtual env terminal)"
   ]
  }
 ],
 "metadata": {
  "kernelspec": {
   "display_name": "Python 3",
   "language": "python",
   "name": "python3"
  },
  "language_info": {
   "codemirror_mode": {
    "name": "ipython",
    "version": 3
   },
   "file_extension": ".py",
   "mimetype": "text/x-python",
   "name": "python",
   "nbconvert_exporter": "python",
   "pygments_lexer": "ipython3",
   "version": "3.7.4-final"
  }
 },
 "nbformat": 4,
 "nbformat_minor": 4
}