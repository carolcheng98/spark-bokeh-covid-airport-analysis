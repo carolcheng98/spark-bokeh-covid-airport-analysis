{
 "cells": [
  {
   "cell_type": "markdown",
   "metadata": {},
   "source": [
    "# Covid-19’s Impact on Airport Traffic"
   ]
  },
  {
   "source": [
    "## Import Packages"
   ],
   "cell_type": "markdown",
   "metadata": {}
  },
  {
   "cell_type": "code",
   "execution_count": 2,
   "metadata": {},
   "outputs": [],
   "source": [
    "import pandas as pd\n",
    "import numpy as np\n",
    "import datetime\n",
    "import os\n",
    "import json"
   ]
  },
  {
   "cell_type": "code",
   "execution_count": 3,
   "metadata": {},
   "outputs": [],
   "source": [
    "import fiona\n",
    "import geopandas as gpd\n",
    "import matplotlib.pyplot as plt\n",
    "import plotly\n",
    "import plotly.graph_objects as go\n",
    "import plotly.express as px\n",
    "import folium"
   ]
  },
  {
   "cell_type": "code",
   "execution_count": 63,
   "metadata": {},
   "outputs": [],
   "source": [
    "#%pip install bokeh\n",
    "from bokeh.io import output_notebook, show, output_file, export_png\n",
    "from bokeh.plotting import figure\n",
    "from bokeh.models import GeoJSONDataSource, LinearColorMapper, ColorBar, NumeralTickFormatter\n",
    "from bokeh.palettes import brewer\n",
    "\n",
    "from bokeh.io.doc import curdoc\n",
    "from bokeh.models import Slider, HoverTool, Select\n",
    "from bokeh.layouts import widgetbox, row, column"
   ]
  },
  {
   "source": [
    "## Read in Datasets (Preprocessed with PySpark)"
   ],
   "cell_type": "markdown",
   "metadata": {}
  },
  {
   "cell_type": "code",
   "execution_count": 70,
   "metadata": {},
   "outputs": [
    {
     "output_type": "execute_result",
     "data": {
      "text/plain": [
       "   Month                          Airport            City           State  \\\n",
       "0      3       Boston Logan International          Boston   Massachusetts   \n",
       "2      3  Charlotte Douglas International       Charlotte  North Carolina   \n",
       "3      3      Chicago OHare International         Chicago        Illinois   \n",
       "4      3  Dallas/Fort Worth International       Grapevine           Texas   \n",
       "5      3   Daniel K. Inouye International  Urban Honolulu          Hawaii   \n",
       "\n",
       "                          Country  Percentage  \n",
       "0  United States of America (the)     80.6875  \n",
       "2  United States of America (the)     73.0000  \n",
       "3  United States of America (the)     77.8125  \n",
       "4  United States of America (the)     70.9375  \n",
       "5  United States of America (the)     95.0000  "
      ],
      "text/html": "<div>\n<style scoped>\n    .dataframe tbody tr th:only-of-type {\n        vertical-align: middle;\n    }\n\n    .dataframe tbody tr th {\n        vertical-align: top;\n    }\n\n    .dataframe thead th {\n        text-align: right;\n    }\n</style>\n<table border=\"1\" class=\"dataframe\">\n  <thead>\n    <tr style=\"text-align: right;\">\n      <th></th>\n      <th>Month</th>\n      <th>Airport</th>\n      <th>City</th>\n      <th>State</th>\n      <th>Country</th>\n      <th>Percentage</th>\n    </tr>\n  </thead>\n  <tbody>\n    <tr>\n      <th>0</th>\n      <td>3</td>\n      <td>Boston Logan International</td>\n      <td>Boston</td>\n      <td>Massachusetts</td>\n      <td>United States of America (the)</td>\n      <td>80.6875</td>\n    </tr>\n    <tr>\n      <th>2</th>\n      <td>3</td>\n      <td>Charlotte Douglas International</td>\n      <td>Charlotte</td>\n      <td>North Carolina</td>\n      <td>United States of America (the)</td>\n      <td>73.0000</td>\n    </tr>\n    <tr>\n      <th>3</th>\n      <td>3</td>\n      <td>Chicago OHare International</td>\n      <td>Chicago</td>\n      <td>Illinois</td>\n      <td>United States of America (the)</td>\n      <td>77.8125</td>\n    </tr>\n    <tr>\n      <th>4</th>\n      <td>3</td>\n      <td>Dallas/Fort Worth International</td>\n      <td>Grapevine</td>\n      <td>Texas</td>\n      <td>United States of America (the)</td>\n      <td>70.9375</td>\n    </tr>\n    <tr>\n      <th>5</th>\n      <td>3</td>\n      <td>Daniel K. Inouye International</td>\n      <td>Urban Honolulu</td>\n      <td>Hawaii</td>\n      <td>United States of America (the)</td>\n      <td>95.0000</td>\n    </tr>\n  </tbody>\n</table>\n</div>"
     },
     "metadata": {},
     "execution_count": 70
    }
   ],
   "source": [
    "# aggregated flight data - only need the US data\n",
    "df_flight = pd.read_csv('flight_result.csv',names=['Month','Airport','City','State','Country','Percentage'])\n",
    "df_flight=df_flight.loc[df_flight['Country']=='United States of America (the)']\n",
    "df_flight.head()"
   ]
  },
  {
   "cell_type": "code",
   "execution_count": 71,
   "metadata": {},
   "outputs": [
    {
     "output_type": "execute_result",
     "data": {
      "text/plain": [
       "           State    1    2       3       4        5        6        7  \\\n",
       "0        Alabama  0.0  0.0  1063.0  6124.0  11013.0  20277.0  49789.0   \n",
       "1         Alaska  0.0  0.0   129.0   231.0    124.0    658.0   2574.0   \n",
       "2  AmericanSamoa  0.0  0.0     0.0     0.0      0.0      0.0      0.0   \n",
       "3        Arizona  1.0  0.0  1288.0  6366.0  12281.0  59292.0  94782.0   \n",
       "4       Arkansas  0.0  0.0   523.0  2758.0   3972.0  13524.0  21734.0   \n",
       "\n",
       "         8        9       10       11       12  \n",
       "0  38234.0  28272.0  38841.0  55911.0  20353.0  \n",
       "1   2457.0   2672.0   7510.0  16221.0   4460.0  \n",
       "2      0.0      0.0      0.0      0.0      0.0  \n",
       "3  27825.0  16672.0  27439.0  80871.0  37459.0  \n",
       "4  18713.0  22473.0  28493.0  45169.0  13565.0  "
      ],
      "text/html": "<div>\n<style scoped>\n    .dataframe tbody tr th:only-of-type {\n        vertical-align: middle;\n    }\n\n    .dataframe tbody tr th {\n        vertical-align: top;\n    }\n\n    .dataframe thead th {\n        text-align: right;\n    }\n</style>\n<table border=\"1\" class=\"dataframe\">\n  <thead>\n    <tr style=\"text-align: right;\">\n      <th></th>\n      <th>State</th>\n      <th>1</th>\n      <th>2</th>\n      <th>3</th>\n      <th>4</th>\n      <th>5</th>\n      <th>6</th>\n      <th>7</th>\n      <th>8</th>\n      <th>9</th>\n      <th>10</th>\n      <th>11</th>\n      <th>12</th>\n    </tr>\n  </thead>\n  <tbody>\n    <tr>\n      <th>0</th>\n      <td>Alabama</td>\n      <td>0.0</td>\n      <td>0.0</td>\n      <td>1063.0</td>\n      <td>6124.0</td>\n      <td>11013.0</td>\n      <td>20277.0</td>\n      <td>49789.0</td>\n      <td>38234.0</td>\n      <td>28272.0</td>\n      <td>38841.0</td>\n      <td>55911.0</td>\n      <td>20353.0</td>\n    </tr>\n    <tr>\n      <th>1</th>\n      <td>Alaska</td>\n      <td>0.0</td>\n      <td>0.0</td>\n      <td>129.0</td>\n      <td>231.0</td>\n      <td>124.0</td>\n      <td>658.0</td>\n      <td>2574.0</td>\n      <td>2457.0</td>\n      <td>2672.0</td>\n      <td>7510.0</td>\n      <td>16221.0</td>\n      <td>4460.0</td>\n    </tr>\n    <tr>\n      <th>2</th>\n      <td>AmericanSamoa</td>\n      <td>0.0</td>\n      <td>0.0</td>\n      <td>0.0</td>\n      <td>0.0</td>\n      <td>0.0</td>\n      <td>0.0</td>\n      <td>0.0</td>\n      <td>0.0</td>\n      <td>0.0</td>\n      <td>0.0</td>\n      <td>0.0</td>\n      <td>0.0</td>\n    </tr>\n    <tr>\n      <th>3</th>\n      <td>Arizona</td>\n      <td>1.0</td>\n      <td>0.0</td>\n      <td>1288.0</td>\n      <td>6366.0</td>\n      <td>12281.0</td>\n      <td>59292.0</td>\n      <td>94782.0</td>\n      <td>27825.0</td>\n      <td>16672.0</td>\n      <td>27439.0</td>\n      <td>80871.0</td>\n      <td>37459.0</td>\n    </tr>\n    <tr>\n      <th>4</th>\n      <td>Arkansas</td>\n      <td>0.0</td>\n      <td>0.0</td>\n      <td>523.0</td>\n      <td>2758.0</td>\n      <td>3972.0</td>\n      <td>13524.0</td>\n      <td>21734.0</td>\n      <td>18713.0</td>\n      <td>22473.0</td>\n      <td>28493.0</td>\n      <td>45169.0</td>\n      <td>13565.0</td>\n    </tr>\n  </tbody>\n</table>\n</div>"
     },
     "metadata": {},
     "execution_count": 71
    }
   ],
   "source": [
    "# aggregated covid stats data\n",
    "df_cases = pd.read_csv('case_final.csv')\n",
    "df_cases.rename(columns={'state':'State'},inplace=True)\n",
    "df_cases.head()"
   ]
  },
  {
   "cell_type": "code",
   "execution_count": 72,
   "metadata": {},
   "outputs": [],
   "source": [
    "# prepare the mega table used for plotting -> add a column cases in the flight df\n",
    "\n",
    "month_lst = df_flight['Month'].values\n",
    "state_lst = df_flight['State'].values\n",
    "merged_list = [(month_lst[i], state_lst[i]) for i in range(0, len(month_lst))] \n",
    "\n",
    "def getCases(state,month):\n",
    "    return df_cases[df_cases['State']==state][month].values[0]\n",
    "\n",
    "case_lst = []\n",
    "for tup in merged_list:\n",
    "    state = tup[1].replace(' ','')\n",
    "    month = str(tup[0])\n",
    "    res = getCases(state,month)\n",
    "    case_lst.append(res)\n",
    "\n",
    "df_flight['Cases']=case_lst"
   ]
  },
  {
   "cell_type": "code",
   "execution_count": 73,
   "metadata": {},
   "outputs": [],
   "source": [
    "# generate records for states without flight data -> fill in empty/zero\n",
    "flight_states = set([s.replace(' ','') for s in df_flight['State'].values])\n",
    "all_states = set(df_cases['State'].values)\n",
    "no_record_states = list(all_states - flight_states)\n",
    "\n",
    "month_lst = [3,4,5,6,7,8,9,10]\n",
    "\n",
    "for month in month_lst:\n",
    "    for state in no_record_states:\n",
    "        case = getCases(state.replace(' ',''),str(month))\n",
    "        data = [month,'No Airport Data','No City Data', state,'United States of America (the)',0.0,case]\n",
    "        row = pd.DataFrame([data],columns=df_flight.columns)\n",
    "        df_flight=df_flight.append(row,ignore_index=True)\n",
    "#df_flight[df_flight['State']=='WestVirginia']['State']='West Virginia'\n",
    "df_flight['State']=df_flight['State'].replace(['WestVirginia','NewMexico','SouthDakota','NorthDakota','SouthCarolina','RhodeIsland','NewHampshire'],['West Virginia','New Mexico','South Dakota','North Dakota','South Carolina','Rhode Island','New Hampshire'])\n"
   ]
  },
  {
   "cell_type": "code",
   "execution_count": 74,
   "metadata": {},
   "outputs": [
    {
     "output_type": "execute_result",
     "data": {
      "text/plain": [
       "   Month                          Airport            City           State  \\\n",
       "0      3       Boston Logan International          Boston   Massachusetts   \n",
       "1      3  Charlotte Douglas International       Charlotte  North Carolina   \n",
       "2      3      Chicago OHare International         Chicago        Illinois   \n",
       "3      3  Dallas/Fort Worth International       Grapevine           Texas   \n",
       "4      3   Daniel K. Inouye International  Urban Honolulu          Hawaii   \n",
       "\n",
       "                          Country  Percentage   Cases  \n",
       "0  United States of America (the)     80.6875  9922.0  \n",
       "1  United States of America (the)     73.0000  1578.0  \n",
       "2  United States of America (the)     77.8125  5992.0  \n",
       "3  United States of America (the)     70.9375  3809.0  \n",
       "4  United States of America (the)     95.0000   204.0  "
      ],
      "text/html": "<div>\n<style scoped>\n    .dataframe tbody tr th:only-of-type {\n        vertical-align: middle;\n    }\n\n    .dataframe tbody tr th {\n        vertical-align: top;\n    }\n\n    .dataframe thead th {\n        text-align: right;\n    }\n</style>\n<table border=\"1\" class=\"dataframe\">\n  <thead>\n    <tr style=\"text-align: right;\">\n      <th></th>\n      <th>Month</th>\n      <th>Airport</th>\n      <th>City</th>\n      <th>State</th>\n      <th>Country</th>\n      <th>Percentage</th>\n      <th>Cases</th>\n    </tr>\n  </thead>\n  <tbody>\n    <tr>\n      <th>0</th>\n      <td>3</td>\n      <td>Boston Logan International</td>\n      <td>Boston</td>\n      <td>Massachusetts</td>\n      <td>United States of America (the)</td>\n      <td>80.6875</td>\n      <td>9922.0</td>\n    </tr>\n    <tr>\n      <th>1</th>\n      <td>3</td>\n      <td>Charlotte Douglas International</td>\n      <td>Charlotte</td>\n      <td>North Carolina</td>\n      <td>United States of America (the)</td>\n      <td>73.0000</td>\n      <td>1578.0</td>\n    </tr>\n    <tr>\n      <th>2</th>\n      <td>3</td>\n      <td>Chicago OHare International</td>\n      <td>Chicago</td>\n      <td>Illinois</td>\n      <td>United States of America (the)</td>\n      <td>77.8125</td>\n      <td>5992.0</td>\n    </tr>\n    <tr>\n      <th>3</th>\n      <td>3</td>\n      <td>Dallas/Fort Worth International</td>\n      <td>Grapevine</td>\n      <td>Texas</td>\n      <td>United States of America (the)</td>\n      <td>70.9375</td>\n      <td>3809.0</td>\n    </tr>\n    <tr>\n      <th>4</th>\n      <td>3</td>\n      <td>Daniel K. Inouye International</td>\n      <td>Urban Honolulu</td>\n      <td>Hawaii</td>\n      <td>United States of America (the)</td>\n      <td>95.0000</td>\n      <td>204.0</td>\n    </tr>\n  </tbody>\n</table>\n</div>"
     },
     "metadata": {},
     "execution_count": 74
    }
   ],
   "source": [
    "df_flight.head()"
   ]
  },
  {
   "cell_type": "markdown",
   "metadata": {},
   "source": [
    "## Build Reactive Plot with Bokeh\n",
    "* reference: https://jimking100.github.io/2019-09-04-Post-3/\n",
    "* geojson data for US states boundaries: https://eric.clst.org/tech/usgeojson/"
   ]
  },
  {
   "cell_type": "code",
   "execution_count": 52,
   "metadata": {},
   "outputs": [],
   "source": [
    "#prepare the geo info\n",
    "us_states_path = 'gz_2010_us_040_00_5m.json'\n",
    "cur_json = json.load(open(us_states_path, encoding='ISO-8859-1'))\n",
    "path,ext = os.path.splitext(us_states_path)\n",
    "new_path =path+\"_new\"+ext\n",
    "with open(new_path,\"w\", encoding='utf-8') as jsonfile:\n",
    "    json.dump(cur_json,jsonfile,ensure_ascii=False)\n",
    "us_states = gpd.read_file(new_path, driver='GeoJSON')"
   ]
  },
  {
   "cell_type": "code",
   "execution_count": 53,
   "metadata": {},
   "outputs": [],
   "source": [
    "# Set the Coordinate Referance System (crs) for projections\n",
    "# ESPG code 4326 is also referred to as WGS84 lat-long projection\n",
    "us_states.crs = {'init': 'epsg:4326'}\n",
    "us_states=us_states.rename(columns={'NAME':'State'})\n",
    "us_states.drop([1],axis=0,inplace=True)"
   ]
  },
  {
   "cell_type": "code",
   "execution_count": 54,
   "metadata": {},
   "outputs": [],
   "source": [
    "# Create a function the returns json_data for the month selected by the user\n",
    "def json_data(selectedMon):\n",
    "    mon = selectedMon\n",
    "    \n",
    "    # Pull selected year from neighborhood summary data\n",
    "    df_mon = df_flight[df_flight['Month']==mon]\n",
    "    \n",
    "    # Merge the GeoDataframe object (sf) with the neighborhood summary data (neighborhood)\n",
    "    merged = pd.merge(us_states, df_mon, on='State', how='left')\n",
    "    \n",
    "    # Bokeh uses geojson formatting, representing geographical features, with json\n",
    "    # Convert to json\n",
    "    merged_json = json.loads(merged.to_json())\n",
    "    \n",
    "    # Convert to json preferred string-like object \n",
    "    json_data = json.dumps(merged_json)\n",
    "    return json_data"
   ]
  },
  {
   "cell_type": "code",
   "execution_count": 55,
   "metadata": {},
   "outputs": [],
   "source": [
    "def update_plot(attr, old, new):\n",
    "    \n",
    "    # The input yr is the year selected from the slider\n",
    "    mon = slider.value\n",
    "    new_data = json_data(mon)\n",
    "    \n",
    "    # The input cr is the criteria selected from the select box\n",
    "    cr = select.value\n",
    "    input_field = format_df.loc[format_df['verbage'] == cr, 'field'].iloc[0]\n",
    "    \n",
    "    # Update the plot based on the changed inputs\n",
    "    p = make_plot(input_field)\n",
    "    \n",
    "    # Update the layout, clear the old document and display the new document\n",
    "    layout = column(p, widgetbox(select), widgetbox(slider))\n",
    "    curdoc().clear()\n",
    "    curdoc().add_root(layout)\n",
    "    \n",
    "    # Update the data\n",
    "    geosource.geojson = new_data"
   ]
  },
  {
   "cell_type": "code",
   "execution_count": 56,
   "metadata": {},
   "outputs": [],
   "source": [
    "# Create a plotting function\n",
    "def make_plot(field_name):    \n",
    "    # Set the format of the colorbar\n",
    "    min_range = format_df.loc[format_df['field'] == field_name, 'min_range'].iloc[0]\n",
    "    max_range = format_df.loc[format_df['field'] == field_name, 'max_range'].iloc[0]\n",
    "    field_format = format_df.loc[format_df['field'] == field_name, 'format'].iloc[0]\n",
    "    \n",
    "    # Instantiate LinearColorMapper that linearly maps numbers in a range, into a sequence of colors.\n",
    "    color_mapper = LinearColorMapper(palette = palette, low = min_range, high = max_range)\n",
    "    # Create color bar.\n",
    "    format_tick = NumeralTickFormatter(format=field_format)\n",
    "    color_bar = ColorBar(color_mapper=color_mapper, label_standoff=18, formatter=format_tick, border_line_color=None, location = (0, 0))\n",
    "    \n",
    "    # Create figure object.\n",
    "    verbage = format_df.loc[format_df['field'] == field_name, 'verbage'].iloc[0]\n",
    "    p = figure(title = verbage, plot_height = 650, plot_width = 1350, toolbar_location = None)\n",
    "    p.xgrid.grid_line_color = None\n",
    "    p.ygrid.grid_line_color = None\n",
    "    p.axis.visible = False\n",
    "    \n",
    "    # Add patch renderer to figure. \n",
    "    p.patches('xs','ys', source = geosource, fill_color = {'field' : field_name, 'transform' : color_mapper}, line_color = 'black', line_width = 0.25, fill_alpha = 1)\n",
    "    \n",
    "    # Specify color bar layout.\n",
    "    p.add_layout(color_bar, 'right')\n",
    "    \n",
    "    # Add the hover tool to the graph\n",
    "    p.add_tools(hover)\n",
    "    return p"
   ]
  },
  {
   "cell_type": "code",
   "execution_count": 57,
   "metadata": {},
   "outputs": [],
   "source": [
    "#color bar\n",
    "format_data = [('Cases',0,100000,'0','Newly Increased COVID-19 Cases'),\n",
    "              ('Percentage',0,100,'0.0','Percentage of Flight Compared to Baseline Period(Jan|Feb)')]\n",
    "format_df = pd.DataFrame(format_data, columns = ['field' , 'min_range', 'max_range' , 'format', 'verbage'])"
   ]
  },
  {
   "cell_type": "code",
   "execution_count": 58,
   "metadata": {},
   "outputs": [
    {
     "output_type": "stream",
     "name": "stderr",
     "text": [
      "BokehDeprecationWarning: 'WidgetBox' is deprecated and will be removed in Bokeh 3.0, use 'bokeh.models.Column' instead\nBokehDeprecationWarning: 'WidgetBox' is deprecated and will be removed in Bokeh 3.0, use 'bokeh.models.Column' instead\n"
     ]
    }
   ],
   "source": [
    "geosource = GeoJSONDataSource(geojson = json_data(3))\n",
    "input_field = 'Cases'\n",
    "\n",
    "# Define a sequential multi-hue color palette.\n",
    "palette = brewer['Blues'][8]\n",
    "\n",
    "# Reverse color order so that dark blue is highest obesity.\n",
    "palette = palette[::-1]\n",
    "\n",
    "hover = HoverTool(tooltips = [ ('Airport','@Airport'),('State','@State'),('City', '@City'),('%flights', '@Percentage{,}'),('#new cases', '@Cases{,}')])\n",
    "p = make_plot(input_field)\n",
    "                  \n",
    "# Make a slider object: slider \n",
    "slider = Slider(title = 'Month of 2020',start = 3, end = 10, step = 1, value = 3)\n",
    "slider.on_change('value', update_plot)\n",
    "\n",
    "# Make a selection object: select\n",
    "select = Select(title='Select Criteria:', value='Newly Increased COVID-19 Cases', options=['Newly Increased COVID-19 Cases','Percentage of Flight Compared to Baseline Period(Jan|Feb)'])\n",
    "select.on_change('value', update_plot)\n",
    "\n",
    "# Make a column layout of widgetbox(slider) and plot, and add it to the current document\n",
    "# Display the current document\n",
    "layout = column(p, widgetbox(select),widgetbox(slider))\n",
    "curdoc().add_root(layout)"
   ]
  },
  {
   "source": [
    "# running this command can create a static plot without the reactive components\n",
    "show(p)\n",
    "\n",
    "# export file\n",
    "#%conda install selenium\n",
    "#%conda install -c conda-forge firefox geckodriver\n",
    "#export_png(p,filename='plot.png')\n",
    "\n",
    "#command for a reactive fully working plot: python -m bokeh serve --show demo-notebook.ipynb (run this in virtual env terminal)"
   ],
   "cell_type": "code",
   "metadata": {},
   "execution_count": 69,
   "outputs": []
  },
  {
   "cell_type": "code",
   "execution_count": null,
   "metadata": {},
   "outputs": [],
   "source": []
  }
 ],
 "metadata": {
  "kernelspec": {
   "display_name": "Python 3",
   "language": "python",
   "name": "python3"
  },
  "language_info": {
   "codemirror_mode": {
    "name": "ipython",
    "version": 3
   },
   "file_extension": ".py",
   "mimetype": "text/x-python",
   "name": "python",
   "nbconvert_exporter": "python",
   "pygments_lexer": "ipython3",
   "version": "3.7.4-final"
  }
 },
 "nbformat": 4,
 "nbformat_minor": 4
}